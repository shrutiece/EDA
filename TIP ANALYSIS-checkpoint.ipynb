{
 "cells": [
  {
   "cell_type": "code",
   "execution_count": 3,
   "id": "cc5b2273",
   "metadata": {},
   "outputs": [],
   "source": [
    "import pandas as pd\n",
    "import numpy as num\n",
    "import math\n",
    "import warnings \n",
    "warnings.filterwarnings('ignore')\n",
    "import seaborn as sns\n",
    "import matplotlib.pyplot as plt"
   ]
  },
  {
   "cell_type": "code",
   "execution_count": 4,
   "id": "a2129fc8",
   "metadata": {},
   "outputs": [],
   "source": [
    "df= pd.read_csv('tips.csv')"
   ]
  },
  {
   "cell_type": "code",
   "execution_count": 5,
   "id": "d7556f90",
   "metadata": {},
   "outputs": [
    {
     "data": {
      "text/html": [
       "<div>\n",
       "<style scoped>\n",
       "    .dataframe tbody tr th:only-of-type {\n",
       "        vertical-align: middle;\n",
       "    }\n",
       "\n",
       "    .dataframe tbody tr th {\n",
       "        vertical-align: top;\n",
       "    }\n",
       "\n",
       "    .dataframe thead th {\n",
       "        text-align: right;\n",
       "    }\n",
       "</style>\n",
       "<table border=\"1\" class=\"dataframe\">\n",
       "  <thead>\n",
       "    <tr style=\"text-align: right;\">\n",
       "      <th></th>\n",
       "      <th>total_bill</th>\n",
       "      <th>tip</th>\n",
       "      <th>sex</th>\n",
       "      <th>smoker</th>\n",
       "      <th>day</th>\n",
       "      <th>time</th>\n",
       "      <th>size</th>\n",
       "    </tr>\n",
       "  </thead>\n",
       "  <tbody>\n",
       "    <tr>\n",
       "      <th>0</th>\n",
       "      <td>16.99</td>\n",
       "      <td>1.01</td>\n",
       "      <td>Female</td>\n",
       "      <td>No</td>\n",
       "      <td>Sun</td>\n",
       "      <td>Dinner</td>\n",
       "      <td>2</td>\n",
       "    </tr>\n",
       "    <tr>\n",
       "      <th>1</th>\n",
       "      <td>10.34</td>\n",
       "      <td>1.66</td>\n",
       "      <td>Male</td>\n",
       "      <td>No</td>\n",
       "      <td>Sun</td>\n",
       "      <td>Dinner</td>\n",
       "      <td>3</td>\n",
       "    </tr>\n",
       "    <tr>\n",
       "      <th>2</th>\n",
       "      <td>21.01</td>\n",
       "      <td>3.50</td>\n",
       "      <td>Male</td>\n",
       "      <td>No</td>\n",
       "      <td>Sun</td>\n",
       "      <td>Dinner</td>\n",
       "      <td>3</td>\n",
       "    </tr>\n",
       "    <tr>\n",
       "      <th>3</th>\n",
       "      <td>23.68</td>\n",
       "      <td>3.31</td>\n",
       "      <td>Male</td>\n",
       "      <td>No</td>\n",
       "      <td>Sun</td>\n",
       "      <td>Dinner</td>\n",
       "      <td>2</td>\n",
       "    </tr>\n",
       "    <tr>\n",
       "      <th>4</th>\n",
       "      <td>24.59</td>\n",
       "      <td>3.61</td>\n",
       "      <td>Female</td>\n",
       "      <td>No</td>\n",
       "      <td>Sun</td>\n",
       "      <td>Dinner</td>\n",
       "      <td>4</td>\n",
       "    </tr>\n",
       "  </tbody>\n",
       "</table>\n",
       "</div>"
      ],
      "text/plain": [
       "   total_bill   tip     sex smoker  day    time  size\n",
       "0       16.99  1.01  Female     No  Sun  Dinner     2\n",
       "1       10.34  1.66    Male     No  Sun  Dinner     3\n",
       "2       21.01  3.50    Male     No  Sun  Dinner     3\n",
       "3       23.68  3.31    Male     No  Sun  Dinner     2\n",
       "4       24.59  3.61  Female     No  Sun  Dinner     4"
      ]
     },
     "execution_count": 5,
     "metadata": {},
     "output_type": "execute_result"
    }
   ],
   "source": [
    "df.head()"
   ]
  },
  {
   "cell_type": "code",
   "execution_count": 6,
   "id": "3b2d53e8",
   "metadata": {},
   "outputs": [
    {
     "data": {
      "text/plain": [
       "Index(['total_bill', 'tip', 'sex', 'smoker', 'day', 'time', 'size'], dtype='object')"
      ]
     },
     "execution_count": 6,
     "metadata": {},
     "output_type": "execute_result"
    }
   ],
   "source": [
    "df.columns"
   ]
  },
  {
   "cell_type": "code",
   "execution_count": 7,
   "id": "60894baf",
   "metadata": {},
   "outputs": [
    {
     "data": {
      "text/html": [
       "<div>\n",
       "<style scoped>\n",
       "    .dataframe tbody tr th:only-of-type {\n",
       "        vertical-align: middle;\n",
       "    }\n",
       "\n",
       "    .dataframe tbody tr th {\n",
       "        vertical-align: top;\n",
       "    }\n",
       "\n",
       "    .dataframe thead th {\n",
       "        text-align: right;\n",
       "    }\n",
       "</style>\n",
       "<table border=\"1\" class=\"dataframe\">\n",
       "  <thead>\n",
       "    <tr style=\"text-align: right;\">\n",
       "      <th></th>\n",
       "      <th>total_bill</th>\n",
       "      <th>tip</th>\n",
       "      <th>size</th>\n",
       "    </tr>\n",
       "  </thead>\n",
       "  <tbody>\n",
       "    <tr>\n",
       "      <th>count</th>\n",
       "      <td>244.000000</td>\n",
       "      <td>244.000000</td>\n",
       "      <td>244.000000</td>\n",
       "    </tr>\n",
       "    <tr>\n",
       "      <th>mean</th>\n",
       "      <td>19.785943</td>\n",
       "      <td>2.998279</td>\n",
       "      <td>2.569672</td>\n",
       "    </tr>\n",
       "    <tr>\n",
       "      <th>std</th>\n",
       "      <td>8.902412</td>\n",
       "      <td>1.383638</td>\n",
       "      <td>0.951100</td>\n",
       "    </tr>\n",
       "    <tr>\n",
       "      <th>min</th>\n",
       "      <td>3.070000</td>\n",
       "      <td>1.000000</td>\n",
       "      <td>1.000000</td>\n",
       "    </tr>\n",
       "    <tr>\n",
       "      <th>25%</th>\n",
       "      <td>13.347500</td>\n",
       "      <td>2.000000</td>\n",
       "      <td>2.000000</td>\n",
       "    </tr>\n",
       "    <tr>\n",
       "      <th>50%</th>\n",
       "      <td>17.795000</td>\n",
       "      <td>2.900000</td>\n",
       "      <td>2.000000</td>\n",
       "    </tr>\n",
       "    <tr>\n",
       "      <th>75%</th>\n",
       "      <td>24.127500</td>\n",
       "      <td>3.562500</td>\n",
       "      <td>3.000000</td>\n",
       "    </tr>\n",
       "    <tr>\n",
       "      <th>max</th>\n",
       "      <td>50.810000</td>\n",
       "      <td>10.000000</td>\n",
       "      <td>6.000000</td>\n",
       "    </tr>\n",
       "  </tbody>\n",
       "</table>\n",
       "</div>"
      ],
      "text/plain": [
       "       total_bill         tip        size\n",
       "count  244.000000  244.000000  244.000000\n",
       "mean    19.785943    2.998279    2.569672\n",
       "std      8.902412    1.383638    0.951100\n",
       "min      3.070000    1.000000    1.000000\n",
       "25%     13.347500    2.000000    2.000000\n",
       "50%     17.795000    2.900000    2.000000\n",
       "75%     24.127500    3.562500    3.000000\n",
       "max     50.810000   10.000000    6.000000"
      ]
     },
     "execution_count": 7,
     "metadata": {},
     "output_type": "execute_result"
    }
   ],
   "source": [
    "df.describe()"
   ]
  },
  {
   "cell_type": "markdown",
   "id": "61264c8c",
   "metadata": {},
   "source": [
    "mean of total_bill and tip is 19.785943 and 2.998279 respectively"
   ]
  },
  {
   "cell_type": "code",
   "execution_count": 8,
   "id": "625dcf7f",
   "metadata": {},
   "outputs": [
    {
     "data": {
      "text/plain": [
       "Male      157\n",
       "Female     87\n",
       "Name: sex, dtype: int64"
      ]
     },
     "execution_count": 8,
     "metadata": {},
     "output_type": "execute_result"
    }
   ],
   "source": [
    "df['sex'].value_counts()"
   ]
  },
  {
   "cell_type": "markdown",
   "id": "6e42da74",
   "metadata": {},
   "source": [
    "There are 157 male and 87 female "
   ]
  },
  {
   "cell_type": "code",
   "execution_count": 9,
   "id": "3e837b64",
   "metadata": {},
   "outputs": [
    {
     "data": {
      "text/plain": [
       "Sat     87\n",
       "Sun     76\n",
       "Thur    62\n",
       "Fri     19\n",
       "Name: day, dtype: int64"
      ]
     },
     "execution_count": 9,
     "metadata": {},
     "output_type": "execute_result"
    }
   ],
   "source": [
    "df['day'].value_counts()"
   ]
  },
  {
   "cell_type": "markdown",
   "id": "0f92146b",
   "metadata": {},
   "source": [
    "most of the customers visit the restaurants on saturday"
   ]
  },
  {
   "cell_type": "code",
   "execution_count": 10,
   "id": "1d7fa39e",
   "metadata": {},
   "outputs": [
    {
     "data": {
      "text/plain": [
       "2    156\n",
       "3     38\n",
       "4     37\n",
       "5      5\n",
       "1      4\n",
       "6      4\n",
       "Name: size, dtype: int64"
      ]
     },
     "execution_count": 10,
     "metadata": {},
     "output_type": "execute_result"
    }
   ],
   "source": [
    "df['size'].value_counts()"
   ]
  },
  {
   "cell_type": "code",
   "execution_count": 11,
   "id": "98a4be1e",
   "metadata": {},
   "outputs": [
    {
     "data": {
      "text/plain": [
       "Dinner    176\n",
       "Lunch      68\n",
       "Name: time, dtype: int64"
      ]
     },
     "execution_count": 11,
     "metadata": {},
     "output_type": "execute_result"
    }
   ],
   "source": [
    "df['time'].value_counts()"
   ]
  },
  {
   "cell_type": "markdown",
   "id": "0df6a903",
   "metadata": {},
   "source": [
    "more number of family comes for dinner"
   ]
  },
  {
   "cell_type": "code",
   "execution_count": 12,
   "id": "932cf73d",
   "metadata": {},
   "outputs": [
    {
     "name": "stdout",
     "output_type": "stream",
     "text": [
      "<class 'pandas.core.frame.DataFrame'>\n",
      "RangeIndex: 244 entries, 0 to 243\n",
      "Data columns (total 7 columns):\n",
      " #   Column      Non-Null Count  Dtype  \n",
      "---  ------      --------------  -----  \n",
      " 0   total_bill  244 non-null    float64\n",
      " 1   tip         244 non-null    float64\n",
      " 2   sex         244 non-null    object \n",
      " 3   smoker      244 non-null    object \n",
      " 4   day         244 non-null    object \n",
      " 5   time        244 non-null    object \n",
      " 6   size        244 non-null    int64  \n",
      "dtypes: float64(2), int64(1), object(4)\n",
      "memory usage: 13.5+ KB\n"
     ]
    }
   ],
   "source": [
    "df.info()"
   ]
  },
  {
   "cell_type": "code",
   "execution_count": 13,
   "id": "cdba60d6",
   "metadata": {},
   "outputs": [
    {
     "data": {
      "text/plain": [
       "(244, 7)"
      ]
     },
     "execution_count": 13,
     "metadata": {},
     "output_type": "execute_result"
    }
   ],
   "source": [
    "df.shape"
   ]
  },
  {
   "cell_type": "markdown",
   "id": "2a290683",
   "metadata": {},
   "source": [
    "there are 244 rows and 7 columns"
   ]
  },
  {
   "cell_type": "code",
   "execution_count": 14,
   "id": "922e6f6a",
   "metadata": {},
   "outputs": [
    {
     "data": {
      "text/plain": [
       "total_bill    0\n",
       "tip           0\n",
       "sex           0\n",
       "smoker        0\n",
       "day           0\n",
       "time          0\n",
       "size          0\n",
       "dtype: int64"
      ]
     },
     "execution_count": 14,
     "metadata": {},
     "output_type": "execute_result"
    }
   ],
   "source": [
    "df.isna().sum()"
   ]
  },
  {
   "cell_type": "code",
   "execution_count": 15,
   "id": "46c69e23",
   "metadata": {},
   "outputs": [
    {
     "name": "stdout",
     "output_type": "stream",
     "text": [
      "sex\n",
      "['Female' 'Male']\n",
      "smoker\n",
      "['No' 'Yes']\n",
      "day\n",
      "['Sun' 'Sat' 'Thur' 'Fri']\n",
      "time\n",
      "['Dinner' 'Lunch']\n"
     ]
    }
   ],
   "source": [
    "for i in df.select_dtypes(exclude = 'number').columns:\n",
    "    print(i)\n",
    "    print(df[i].unique())"
   ]
  },
  {
   "cell_type": "code",
   "execution_count": 16,
   "id": "224b3f02",
   "metadata": {},
   "outputs": [
    {
     "data": {
      "text/plain": [
       "18.056896551724137"
      ]
     },
     "execution_count": 16,
     "metadata": {},
     "output_type": "execute_result"
    }
   ],
   "source": [
    "df[df.sex=='Female']['total_bill'].mean()"
   ]
  },
  {
   "cell_type": "code",
   "execution_count": 17,
   "id": "a20e54b1",
   "metadata": {},
   "outputs": [
    {
     "data": {
      "text/plain": [
       "20.744076433121034"
      ]
     },
     "execution_count": 17,
     "metadata": {},
     "output_type": "execute_result"
    }
   ],
   "source": [
    "df[df.sex=='Male']['total_bill'].mean()"
   ]
  },
  {
   "cell_type": "markdown",
   "id": "adf87373",
   "metadata": {},
   "source": [
    "on an average male pay more than female"
   ]
  },
  {
   "cell_type": "code",
   "execution_count": 18,
   "id": "8b1b4164",
   "metadata": {},
   "outputs": [
    {
     "data": {
      "text/plain": [
       "2.833448275862069"
      ]
     },
     "execution_count": 18,
     "metadata": {},
     "output_type": "execute_result"
    }
   ],
   "source": [
    "df[df.sex=='Female']['tip'].mean()"
   ]
  },
  {
   "cell_type": "code",
   "execution_count": 19,
   "id": "a6b5af7e",
   "metadata": {},
   "outputs": [
    {
     "data": {
      "text/plain": [
       "3.0896178343949052"
      ]
     },
     "execution_count": 19,
     "metadata": {},
     "output_type": "execute_result"
    }
   ],
   "source": [
    "df[df.sex=='Male']['tip'].mean()"
   ]
  },
  {
   "cell_type": "markdown",
   "id": "034bfbcc",
   "metadata": {},
   "source": [
    "On an average Males give more tip than female"
   ]
  },
  {
   "cell_type": "code",
   "execution_count": 20,
   "id": "37d2639c",
   "metadata": {},
   "outputs": [
    {
     "data": {
      "text/plain": [
       "No     54\n",
       "Yes    33\n",
       "Name: smoker, dtype: int64"
      ]
     },
     "execution_count": 20,
     "metadata": {},
     "output_type": "execute_result"
    }
   ],
   "source": [
    "df[df.sex=='Female']['smoker'].value_counts()"
   ]
  },
  {
   "cell_type": "code",
   "execution_count": 21,
   "id": "0217469c",
   "metadata": {},
   "outputs": [
    {
     "data": {
      "text/plain": [
       "No     97\n",
       "Yes    60\n",
       "Name: smoker, dtype: int64"
      ]
     },
     "execution_count": 21,
     "metadata": {},
     "output_type": "execute_result"
    }
   ],
   "source": [
    "df[df.sex=='Male']['smoker'].value_counts()"
   ]
  },
  {
   "cell_type": "markdown",
   "id": "83dcd12f",
   "metadata": {},
   "source": [
    "Number of female smoker is 33 and that of male is 60"
   ]
  },
  {
   "cell_type": "code",
   "execution_count": 22,
   "id": "07b9cf7a",
   "metadata": {},
   "outputs": [
    {
     "data": {
      "text/plain": [
       "Thur    32\n",
       "Sat     28\n",
       "Sun     18\n",
       "Fri      9\n",
       "Name: day, dtype: int64"
      ]
     },
     "execution_count": 22,
     "metadata": {},
     "output_type": "execute_result"
    }
   ],
   "source": [
    "df[df.sex=='Female']['day'].value_counts()"
   ]
  },
  {
   "cell_type": "code",
   "execution_count": 23,
   "id": "7bfa2e9c",
   "metadata": {},
   "outputs": [
    {
     "data": {
      "text/plain": [
       "Sat     59\n",
       "Sun     58\n",
       "Thur    30\n",
       "Fri     10\n",
       "Name: day, dtype: int64"
      ]
     },
     "execution_count": 23,
     "metadata": {},
     "output_type": "execute_result"
    }
   ],
   "source": [
    "df[df.sex=='Male']['day'].value_counts()"
   ]
  },
  {
   "cell_type": "markdown",
   "id": "9bf59315",
   "metadata": {},
   "source": [
    "Male visits  more on saturday and that of female on thrusday "
   ]
  },
  {
   "cell_type": "code",
   "execution_count": 24,
   "id": "44892ec5",
   "metadata": {},
   "outputs": [
    {
     "data": {
      "image/png": "[encoded data removed]",
      "text/plain": [
       "<Figure size 432x288 with 1 Axes>"
      ]
     },
     "metadata": {},
     "output_type": "display_data"
    }
   ],
   "source": [
    "df['sex'].value_counts().plot(kind = 'pie')\n",
    "plt.grid(True)"
   ]
  },
  {
   "cell_type": "code",
   "execution_count": 25,
   "id": "f984fa3e",
   "metadata": {},
   "outputs": [
    {
     "data": {
      "image/png": "[encoded data removed]",
      "text/plain": [
       "<Figure size 432x288 with 1 Axes>"
      ]
     },
     "metadata": {
      "needs_background": "light"
     },
     "output_type": "display_data"
    }
   ],
   "source": [
    "sns.violinplot(df['total_bill'],color='Pink')\n",
    "plt.show()"
   ]
  },
  {
   "cell_type": "code",
   "execution_count": 26,
   "id": "00731e60",
   "metadata": {},
   "outputs": [
    {
     "data": {
      "text/plain": [
       "<AxesSubplot:>"
      ]
     },
     "execution_count": 26,
     "metadata": {},
     "output_type": "execute_result"
    },
    {
     "data": {
      "image/png": "[encoded data removed]",
      "text/plain": [
       "<Figure size 432x288 with 1 Axes>"
      ]
     },
     "metadata": {
      "needs_background": "light"
     },
     "output_type": "display_data"
    }
   ],
   "source": [
    "df['tip'].hist()"
   ]
  },
  {
   "cell_type": "code",
   "execution_count": 27,
   "id": "4440964d",
   "metadata": {},
   "outputs": [
    {
     "data": {
      "text/plain": [
       "<AxesSubplot:>"
      ]
     },
     "execution_count": 27,
     "metadata": {},
     "output_type": "execute_result"
    },
    {
     "data": {
      "image/png": "[encoded data removed]",
      "text/plain": [
       "<Figure size 432x288 with 1 Axes>"
      ]
     },
     "metadata": {
      "needs_background": "light"
     },
     "output_type": "display_data"
    }
   ],
   "source": [
    "df['size'].hist()"
   ]
  },
  {
   "cell_type": "markdown",
   "id": "f7eb4f04",
   "metadata": {},
   "source": [
    "Most of the poeple visit the restaurants in couple"
   ]
  },
  {
   "cell_type": "code",
   "execution_count": 28,
   "id": "f79b5b41",
   "metadata": {},
   "outputs": [
    {
     "data": {
      "text/plain": [
       "Text(0, 0.5, 'time')"
      ]
     },
     "execution_count": 28,
     "metadata": {},
     "output_type": "execute_result"
    },
    {
     "data": {
      "image/png": "[encoded data removed]",
      "text/plain": [
       "<Figure size 432x288 with 1 Axes>"
      ]
     },
     "metadata": {
      "needs_background": "light"
     },
     "output_type": "display_data"
    }
   ],
   "source": [
    "pd.crosstab(df.sex,df.time).plot(kind='bar')\n",
    "plt.xlabel(\"sex\")\n",
    "plt.ylabel(\"time\")\n",
    "\n"
   ]
  },
  {
   "cell_type": "markdown",
   "id": "291089c2",
   "metadata": {},
   "source": [
    "Male visit more for dinner"
   ]
  },
  {
   "cell_type": "code",
   "execution_count": 29,
   "id": "f2cbdb6a",
   "metadata": {},
   "outputs": [
    {
     "data": {
      "text/plain": [
       "Text(0, 0.5, 'day')"
      ]
     },
     "execution_count": 29,
     "metadata": {},
     "output_type": "execute_result"
    },
    {
     "data": {
      "image/png": "[encoded data removed]",
      "text/plain": [
       "<Figure size 432x288 with 1 Axes>"
      ]
     },
     "metadata": {
      "needs_background": "light"
     },
     "output_type": "display_data"
    }
   ],
   "source": [
    "pd.crosstab(df.sex,df.day).plot(kind='bar')\n",
    "plt.xlabel(\"sex\")\n",
    "plt.ylabel(\"day\")"
   ]
  },
  {
   "cell_type": "markdown",
   "id": "60df03f8",
   "metadata": {},
   "source": [
    "This graph show day wise male and female  ratio."
   ]
  },
  {
   "cell_type": "code",
   "execution_count": 30,
   "id": "7a3efa33",
   "metadata": {},
   "outputs": [
    {
     "data": {
      "text/plain": [
       "Text(0, 0.5, 'smoker')"
      ]
     },
     "execution_count": 30,
     "metadata": {},
     "output_type": "execute_result"
    },
    {
     "data": {
      "image/png": "[encoded data removed]",
      "text/plain": [
       "<Figure size 432x288 with 1 Axes>"
      ]
     },
     "metadata": {
      "needs_background": "light"
     },
     "output_type": "display_data"
    }
   ],
   "source": [
    "pd.crosstab(df.sex,df.smoker).plot(kind ='bar')\n",
    "plt.xlabel(\"sex\")\n",
    "plt.ylabel(\"smoker\")"
   ]
  },
  {
   "cell_type": "markdown",
   "id": "ae56a997",
   "metadata": {},
   "source": [
    "Male smoker is more than that of female"
   ]
  },
  {
   "cell_type": "code",
   "execution_count": 31,
   "id": "ea695361",
   "metadata": {},
   "outputs": [
    {
     "data": {
      "image/png": "[encoded data removed]",
      "text/plain": [
       "<Figure size 432x288 with 1 Axes>"
      ]
     },
     "metadata": {
      "needs_background": "light"
     },
     "output_type": "display_data"
    }
   ],
   "source": [
    "sns.scatterplot(x='total_bill',y='tip',data=df,hue='sex')\n",
    "plt.show()"
   ]
  },
  {
   "cell_type": "code",
   "execution_count": 32,
   "id": "a63a2a69",
   "metadata": {},
   "outputs": [
    {
     "data": {
      "text/plain": [
       "<seaborn.axisgrid.PairGrid at 0x1406deca790>"
      ]
     },
     "execution_count": 32,
     "metadata": {},
     "output_type": "execute_result"
    },
    {
     "data": {
      "image/png": "[encoded data removed]",
      "text/plain": [
       "<Figure size 612.125x540 with 12 Axes>"
      ]
     },
     "metadata": {
      "needs_background": "light"
     },
     "output_type": "display_data"
    }
   ],
   "source": [
    "sns.pairplot(df,hue='sex')"
   ]
  },
  {
   "cell_type": "code",
   "execution_count": 33,
   "id": "a3eddd0e",
   "metadata": {},
   "outputs": [
    {
     "data": {
      "text/html": [
       "<div>\n",
       "<style scoped>\n",
       "    .dataframe tbody tr th:only-of-type {\n",
       "        vertical-align: middle;\n",
       "    }\n",
       "\n",
       "    .dataframe tbody tr th {\n",
       "        vertical-align: top;\n",
       "    }\n",
       "\n",
       "    .dataframe thead th {\n",
       "        text-align: right;\n",
       "    }\n",
       "</style>\n",
       "<table border=\"1\" class=\"dataframe\">\n",
       "  <thead>\n",
       "    <tr style=\"text-align: right;\">\n",
       "      <th></th>\n",
       "      <th>total_bill</th>\n",
       "      <th>tip</th>\n",
       "      <th>sex</th>\n",
       "      <th>smoker</th>\n",
       "      <th>day</th>\n",
       "      <th>time</th>\n",
       "      <th>size</th>\n",
       "      <th>spent</th>\n",
       "    </tr>\n",
       "  </thead>\n",
       "  <tbody>\n",
       "    <tr>\n",
       "      <th>0</th>\n",
       "      <td>16.99</td>\n",
       "      <td>1.01</td>\n",
       "      <td>Female</td>\n",
       "      <td>No</td>\n",
       "      <td>Sun</td>\n",
       "      <td>Dinner</td>\n",
       "      <td>2</td>\n",
       "      <td>18.00</td>\n",
       "    </tr>\n",
       "    <tr>\n",
       "      <th>1</th>\n",
       "      <td>10.34</td>\n",
       "      <td>1.66</td>\n",
       "      <td>Male</td>\n",
       "      <td>No</td>\n",
       "      <td>Sun</td>\n",
       "      <td>Dinner</td>\n",
       "      <td>3</td>\n",
       "      <td>12.00</td>\n",
       "    </tr>\n",
       "    <tr>\n",
       "      <th>2</th>\n",
       "      <td>21.01</td>\n",
       "      <td>3.50</td>\n",
       "      <td>Male</td>\n",
       "      <td>No</td>\n",
       "      <td>Sun</td>\n",
       "      <td>Dinner</td>\n",
       "      <td>3</td>\n",
       "      <td>24.51</td>\n",
       "    </tr>\n",
       "    <tr>\n",
       "      <th>3</th>\n",
       "      <td>23.68</td>\n",
       "      <td>3.31</td>\n",
       "      <td>Male</td>\n",
       "      <td>No</td>\n",
       "      <td>Sun</td>\n",
       "      <td>Dinner</td>\n",
       "      <td>2</td>\n",
       "      <td>26.99</td>\n",
       "    </tr>\n",
       "    <tr>\n",
       "      <th>4</th>\n",
       "      <td>24.59</td>\n",
       "      <td>3.61</td>\n",
       "      <td>Female</td>\n",
       "      <td>No</td>\n",
       "      <td>Sun</td>\n",
       "      <td>Dinner</td>\n",
       "      <td>4</td>\n",
       "      <td>28.20</td>\n",
       "    </tr>\n",
       "  </tbody>\n",
       "</table>\n",
       "</div>"
      ],
      "text/plain": [
       "   total_bill   tip     sex smoker  day    time  size  spent\n",
       "0       16.99  1.01  Female     No  Sun  Dinner     2  18.00\n",
       "1       10.34  1.66    Male     No  Sun  Dinner     3  12.00\n",
       "2       21.01  3.50    Male     No  Sun  Dinner     3  24.51\n",
       "3       23.68  3.31    Male     No  Sun  Dinner     2  26.99\n",
       "4       24.59  3.61  Female     No  Sun  Dinner     4  28.20"
      ]
     },
     "execution_count": 33,
     "metadata": {},
     "output_type": "execute_result"
    }
   ],
   "source": [
    "df['spent']=df['total_bill'] + df['tip']\n",
    "df.head()\n"
   ]
  },
  {
   "cell_type": "code",
   "execution_count": 34,
   "id": "01af5aa5",
   "metadata": {},
   "outputs": [
    {
     "data": {
      "text/plain": [
       "(244, 8)"
      ]
     },
     "execution_count": 34,
     "metadata": {},
     "output_type": "execute_result"
    }
   ],
   "source": [
    "df.shape"
   ]
  },
  {
   "cell_type": "code",
   "execution_count": 35,
   "id": "74ae73cf",
   "metadata": {},
   "outputs": [],
   "source": [
    "#map('{:.2%}'.format) //for  float series"
   ]
  },
  {
   "cell_type": "code",
   "execution_count": 36,
   "id": "e932a023",
   "metadata": {},
   "outputs": [
    {
     "data": {
      "text/plain": [
       "Male      64.34%\n",
       "Female    35.66%\n",
       "Name: sex, dtype: object"
      ]
     },
     "execution_count": 36,
     "metadata": {},
     "output_type": "execute_result"
    }
   ],
   "source": [
    "(df['sex'].value_counts()/df.shape[0]).map('{:.2%}'.format)"
   ]
  },
  {
   "cell_type": "code",
   "execution_count": 37,
   "id": "254829dc",
   "metadata": {},
   "outputs": [
    {
     "data": {
      "text/plain": [
       "5559.35"
      ]
     },
     "execution_count": 37,
     "metadata": {},
     "output_type": "execute_result"
    }
   ],
   "source": [
    "df['spent'].sum()"
   ]
  },
  {
   "cell_type": "code",
   "execution_count": 38,
   "id": "8412fa5b",
   "metadata": {},
   "outputs": [
    {
     "data": {
      "text/plain": [
       "3741.89"
      ]
     },
     "execution_count": 38,
     "metadata": {},
     "output_type": "execute_result"
    }
   ],
   "source": [
    "df[df.sex=='Male']['spent'].sum()"
   ]
  },
  {
   "cell_type": "code",
   "execution_count": 39,
   "id": "c94f900d",
   "metadata": {},
   "outputs": [
    {
     "data": {
      "text/plain": [
       "1817.46"
      ]
     },
     "execution_count": 39,
     "metadata": {},
     "output_type": "execute_result"
    }
   ],
   "source": [
    "df[df.sex=='Female']['spent'].sum()"
   ]
  },
  {
   "cell_type": "code",
   "execution_count": 40,
   "id": "2fbe997d",
   "metadata": {},
   "outputs": [
    {
     "name": "stdout",
     "output_type": "stream",
     "text": [
      "67.31%\n"
     ]
    }
   ],
   "source": [
    "print(\"{0:.2%}\".format(df[df.sex=='Male']['spent'].sum()/df['spent'].sum()))\n",
    "\n"
   ]
  },
  {
   "cell_type": "code",
   "execution_count": 41,
   "id": "52ac97cc",
   "metadata": {},
   "outputs": [
    {
     "name": "stdout",
     "output_type": "stream",
     "text": [
      "32.69%\n"
     ]
    }
   ],
   "source": [
    "print(\"{0:.2%}\".format(df[df.sex=='Female']['spent'].sum()/df['spent'].sum()))"
   ]
  },
  {
   "cell_type": "markdown",
   "id": "e38af31b",
   "metadata": {},
   "source": [
    "Percentage of spending money by male is more as compared to that of female"
   ]
  },
  {
   "cell_type": "code",
   "execution_count": 42,
   "id": "9516105a",
   "metadata": {},
   "outputs": [
    {
     "data": {
      "text/plain": [
       "731.5799999999999"
      ]
     },
     "execution_count": 42,
     "metadata": {},
     "output_type": "execute_result"
    }
   ],
   "source": [
    "df['tip'].sum()"
   ]
  },
  {
   "cell_type": "code",
   "execution_count": 43,
   "id": "df24b86a",
   "metadata": {},
   "outputs": [
    {
     "data": {
      "text/plain": [
       "485.07"
      ]
     },
     "execution_count": 43,
     "metadata": {},
     "output_type": "execute_result"
    }
   ],
   "source": [
    "df[df.sex=='Male']['tip'].sum()"
   ]
  },
  {
   "cell_type": "code",
   "execution_count": 44,
   "id": "6f1bd6c4",
   "metadata": {},
   "outputs": [
    {
     "data": {
      "text/plain": [
       "246.50999999999996"
      ]
     },
     "execution_count": 44,
     "metadata": {},
     "output_type": "execute_result"
    }
   ],
   "source": [
    "df[df.sex=='Female']['tip'].sum()"
   ]
  },
  {
   "cell_type": "code",
   "execution_count": 45,
   "id": "ed00eb6f",
   "metadata": {},
   "outputs": [
    {
     "name": "stdout",
     "output_type": "stream",
     "text": [
      "66.30%\n"
     ]
    }
   ],
   "source": [
    "print(\"{0:.2%}\".format(df[df.sex=='Male']['tip'].sum()/df['tip'].sum()))"
   ]
  },
  {
   "cell_type": "code",
   "execution_count": 46,
   "id": "e144538c",
   "metadata": {},
   "outputs": [
    {
     "name": "stdout",
     "output_type": "stream",
     "text": [
      "33.70%\n"
     ]
    }
   ],
   "source": [
    "print(\"{0:.2%}\".format(df[df.sex=='Female']['tip'].sum()/df['tip'].sum()))"
   ]
  },
  {
   "cell_type": "markdown",
   "id": "1976ea7f",
   "metadata": {},
   "source": [
    "tips given by male is more as compared to female"
   ]
  },
  {
   "cell_type": "code",
   "execution_count": 47,
   "id": "951d8eb4",
   "metadata": {},
   "outputs": [
    {
     "data": {
      "text/plain": [
       "Text(0, 0.5, 'sex')"
      ]
     },
     "execution_count": 47,
     "metadata": {},
     "output_type": "execute_result"
    },
    {
     "data": {
      "image/png": "[encoded data removed]",
      "text/plain": [
       "<Figure size 432x288 with 1 Axes>"
      ]
     },
     "metadata": {
      "needs_background": "light"
     },
     "output_type": "display_data"
    }
   ],
   "source": [
    "pd.crosstab(df.day,df.sex).plot(kind='bar')\n",
    "plt.xlabel(\"day\")\n",
    "plt.ylabel(\"sex\")"
   ]
  },
  {
   "cell_type": "code",
   "execution_count": 48,
   "id": "2a244c3f",
   "metadata": {},
   "outputs": [
    {
     "data": {
      "image/png": "[encoded data removed]",
      "text/plain": [
       "<Figure size 432x288 with 1 Axes>"
      ]
     },
     "metadata": {
      "needs_background": "light"
     },
     "output_type": "display_data"
    }
   ],
   "source": [
    "sns.barplot(x='day',y='spent',data=df)\n",
    "plt.show()"
   ]
  },
  {
   "cell_type": "markdown",
   "id": "66bc5a56",
   "metadata": {},
   "source": [
    "on sunday total spent is more"
   ]
  },
  {
   "cell_type": "code",
   "execution_count": 49,
   "id": "b1bed5fa",
   "metadata": {},
   "outputs": [
    {
     "data": {
      "image/png": "[encoded data removed]",
      "text/plain": [
       "<Figure size 432x288 with 1 Axes>"
      ]
     },
     "metadata": {
      "needs_background": "light"
     },
     "output_type": "display_data"
    }
   ],
   "source": [
    "sns.barplot(x='day',y='spent',data=df,hue ='sex')\n",
    "plt.show()"
   ]
  },
  {
   "cell_type": "markdown",
   "id": "11f5f425",
   "metadata": {},
   "source": [
    "Every day women spend more than male"
   ]
  },
  {
   "cell_type": "code",
   "execution_count": 50,
   "id": "88403b9d",
   "metadata": {},
   "outputs": [
    {
     "data": {
      "image/png": "[encoded data removed]",
      "text/plain": [
       "<Figure size 432x288 with 1 Axes>"
      ]
     },
     "metadata": {
      "needs_background": "light"
     },
     "output_type": "display_data"
    }
   ],
   "source": [
    "sns.barplot(y='tip',x='day',data=df)\n",
    "plt.show()"
   ]
  },
  {
   "cell_type": "code",
   "execution_count": 51,
   "id": "a74a14d7",
   "metadata": {},
   "outputs": [
    {
     "data": {
      "image/png": "[encoded data removed]",
      "text/plain": [
       "<Figure size 432x288 with 1 Axes>"
      ]
     },
     "metadata": {
      "needs_background": "light"
     },
     "output_type": "display_data"
    }
   ],
   "source": [
    "sns.barplot(y='total_bill',x='day',data=df)\n",
    "plt.show()"
   ]
  },
  {
   "cell_type": "code",
   "execution_count": 52,
   "id": "0c657565",
   "metadata": {},
   "outputs": [
    {
     "data": {
      "text/plain": [
       "Text(0, 0.5, 'sex')"
      ]
     },
     "execution_count": 52,
     "metadata": {},
     "output_type": "execute_result"
    },
    {
     "data": {
      "image/png": "[encoded data removed]",
      "text/plain": [
       "<Figure size 432x288 with 1 Axes>"
      ]
     },
     "metadata": {
      "needs_background": "light"
     },
     "output_type": "display_data"
    }
   ],
   "source": [
    "sns.barplot(df.day,df.sex=='Male')\n",
    "plt.xlabel(\"day\")\n",
    "plt.ylabel(\"sex\")"
   ]
  },
  {
   "cell_type": "markdown",
   "id": "17fcb977",
   "metadata": {},
   "source": [
    "Male visits more on sunday"
   ]
  },
  {
   "cell_type": "code",
   "execution_count": 53,
   "id": "55cd68e9",
   "metadata": {},
   "outputs": [
    {
     "data": {
      "text/plain": [
       "Text(0, 0.5, 'sex')"
      ]
     },
     "execution_count": 53,
     "metadata": {},
     "output_type": "execute_result"
    },
    {
     "data": {
      "image/png": "[encoded data removed]",
      "text/plain": [
       "<Figure size 432x288 with 1 Axes>"
      ]
     },
     "metadata": {
      "needs_background": "light"
     },
     "output_type": "display_data"
    }
   ],
   "source": [
    "sns.barplot(df.day,df.sex=='Female')\n",
    "plt.xlabel(\"day\")\n",
    "plt.ylabel(\"sex\")"
   ]
  },
  {
   "cell_type": "markdown",
   "id": "d3608121",
   "metadata": {},
   "source": [
    "Female visits more on thrusday"
   ]
  },
  {
   "cell_type": "code",
   "execution_count": 54,
   "id": "01a00e2a",
   "metadata": {},
   "outputs": [
    {
     "data": {
      "text/plain": [
       "No     151\n",
       "Yes     93\n",
       "Name: smoker, dtype: int64"
      ]
     },
     "execution_count": 54,
     "metadata": {},
     "output_type": "execute_result"
    }
   ],
   "source": [
    "df['smoker'].value_counts()"
   ]
  },
  {
   "cell_type": "markdown",
   "id": "4a099f0d",
   "metadata": {},
   "source": [
    "Total number of smoker is 93"
   ]
  },
  {
   "cell_type": "code",
   "execution_count": 55,
   "id": "3280a423",
   "metadata": {},
   "outputs": [
    {
     "data": {
      "text/plain": [
       "No     54\n",
       "Yes    33\n",
       "Name: smoker, dtype: int64"
      ]
     },
     "execution_count": 55,
     "metadata": {},
     "output_type": "execute_result"
    }
   ],
   "source": [
    "df[df.sex=='Female']['smoker'].value_counts()"
   ]
  },
  {
   "cell_type": "markdown",
   "id": "0f160621",
   "metadata": {},
   "source": [
    "Total number of female smoker is 33"
   ]
  },
  {
   "cell_type": "code",
   "execution_count": 56,
   "id": "4fd317f0",
   "metadata": {},
   "outputs": [
    {
     "data": {
      "text/plain": [
       "No     97\n",
       "Yes    60\n",
       "Name: smoker, dtype: int64"
      ]
     },
     "execution_count": 56,
     "metadata": {},
     "output_type": "execute_result"
    }
   ],
   "source": [
    "df[df.sex=='Male']['smoker'].value_counts()"
   ]
  },
  {
   "cell_type": "markdown",
   "id": "540dfbfd",
   "metadata": {},
   "source": [
    "Total number of male smoker is 60"
   ]
  },
  {
   "cell_type": "code",
   "execution_count": 57,
   "id": "5344ce75",
   "metadata": {},
   "outputs": [
    {
     "data": {
      "text/plain": [
       "No     35.76%\n",
       "Yes    35.48%\n",
       "Name: smoker, dtype: object"
      ]
     },
     "execution_count": 57,
     "metadata": {},
     "output_type": "execute_result"
    }
   ],
   "source": [
    "(df[df.sex=='Female']['smoker'].value_counts()/df['smoker'].value_counts()).map('{:.2%}'.format)"
   ]
  },
  {
   "cell_type": "code",
   "execution_count": 58,
   "id": "7d45c696",
   "metadata": {},
   "outputs": [
    {
     "data": {
      "text/plain": [
       "No     64.24%\n",
       "Yes    64.52%\n",
       "Name: smoker, dtype: object"
      ]
     },
     "execution_count": 58,
     "metadata": {},
     "output_type": "execute_result"
    }
   ],
   "source": [
    "(df[df.sex=='Male']['smoker'].value_counts()/df['smoker'].value_counts()).map('{:.2%}'.format)"
   ]
  },
  {
   "cell_type": "code",
   "execution_count": 59,
   "id": "f83defd4",
   "metadata": {},
   "outputs": [
    {
     "data": {
      "text/plain": [
       "5559.35"
      ]
     },
     "execution_count": 59,
     "metadata": {},
     "output_type": "execute_result"
    }
   ],
   "source": [
    "df['spent'].sum()"
   ]
  },
  {
   "cell_type": "code",
   "execution_count": 60,
   "id": "2e056b4b",
   "metadata": {},
   "outputs": [
    {
     "data": {
      "text/plain": [
       "2210.15"
      ]
     },
     "execution_count": 60,
     "metadata": {},
     "output_type": "execute_result"
    }
   ],
   "source": [
    "df[df.smoker=='Yes']['spent'].sum()"
   ]
  },
  {
   "cell_type": "markdown",
   "id": "bb106893",
   "metadata": {},
   "source": [
    "Total spent money spent by smoker"
   ]
  },
  {
   "cell_type": "code",
   "execution_count": 61,
   "id": "df5a0a3d",
   "metadata": {},
   "outputs": [
    {
     "data": {
      "text/plain": [
       "3349.2"
      ]
     },
     "execution_count": 61,
     "metadata": {},
     "output_type": "execute_result"
    }
   ],
   "source": [
    "df[df.smoker=='No']['spent'].sum()"
   ]
  },
  {
   "cell_type": "markdown",
   "id": "e9408f63",
   "metadata": {},
   "source": [
    "Total money spent by non smoker "
   ]
  },
  {
   "cell_type": "code",
   "execution_count": 62,
   "id": "18fc4c7d",
   "metadata": {},
   "outputs": [
    {
     "name": "stdout",
     "output_type": "stream",
     "text": [
      "39.76%\n"
     ]
    }
   ],
   "source": [
    "print(\"{0:.2%}\".format(df[df.smoker=='Yes']['spent'].sum()/df['spent'].sum()))"
   ]
  },
  {
   "cell_type": "code",
   "execution_count": 63,
   "id": "3c11743c",
   "metadata": {},
   "outputs": [
    {
     "name": "stdout",
     "output_type": "stream",
     "text": [
      "60.24%\n"
     ]
    }
   ],
   "source": [
    "print(\"{0:.2%}\".format(df[df.smoker=='No']['spent'].sum()/df['spent'].sum()))"
   ]
  },
  {
   "cell_type": "code",
   "execution_count": 64,
   "id": "6eef8368",
   "metadata": {},
   "outputs": [
    {
     "name": "stdout",
     "output_type": "stream",
     "text": [
      "38.25%\n"
     ]
    }
   ],
   "source": [
    "print(\"{0:.2%}\".format(df[df.smoker=='Yes']['tip'].sum()/df['tip'].sum()))"
   ]
  },
  {
   "cell_type": "code",
   "execution_count": 88,
   "id": "23d5cbfc",
   "metadata": {},
   "outputs": [
    {
     "name": "stdout",
     "output_type": "stream",
     "text": [
      "61.75%\n"
     ]
    }
   ],
   "source": [
    "print(\"{0:.2%}\".format(df[df.smoker=='No']['tip'].sum()/df['tip'].sum()))"
   ]
  },
  {
   "cell_type": "code",
   "execution_count": 89,
   "id": "51a89449",
   "metadata": {},
   "outputs": [
    {
     "name": "stdout",
     "output_type": "stream",
     "text": [
      "39.98%\n"
     ]
    }
   ],
   "source": [
    "print(\"{0:.2%}\".format(df[df.smoker=='Yes']['total_bill'].sum()/df['total_bill'].sum()))"
   ]
  },
  {
   "cell_type": "code",
   "execution_count": 90,
   "id": "cd65fd5d",
   "metadata": {},
   "outputs": [
    {
     "name": "stdout",
     "output_type": "stream",
     "text": [
      "60.02%\n"
     ]
    }
   ],
   "source": [
    "print(\"{0:.2%}\".format(df[df.smoker=='No']['total_bill'].sum()/df['total_bill'].sum()))"
   ]
  },
  {
   "cell_type": "code",
   "execution_count": 68,
   "id": "07f5db93",
   "metadata": {},
   "outputs": [
    {
     "data": {
      "text/html": [
       "<div>\n",
       "<style scoped>\n",
       "    .dataframe tbody tr th:only-of-type {\n",
       "        vertical-align: middle;\n",
       "    }\n",
       "\n",
       "    .dataframe tbody tr th {\n",
       "        vertical-align: top;\n",
       "    }\n",
       "\n",
       "    .dataframe thead th {\n",
       "        text-align: right;\n",
       "    }\n",
       "</style>\n",
       "<table border=\"1\" class=\"dataframe\">\n",
       "  <thead>\n",
       "    <tr style=\"text-align: right;\">\n",
       "      <th></th>\n",
       "      <th>total_bill</th>\n",
       "      <th>tip</th>\n",
       "      <th>sex</th>\n",
       "      <th>smoker</th>\n",
       "      <th>day</th>\n",
       "      <th>time</th>\n",
       "      <th>size</th>\n",
       "      <th>spent</th>\n",
       "      <th>spentpp</th>\n",
       "    </tr>\n",
       "  </thead>\n",
       "  <tbody>\n",
       "    <tr>\n",
       "      <th>0</th>\n",
       "      <td>16.99</td>\n",
       "      <td>1.01</td>\n",
       "      <td>Female</td>\n",
       "      <td>No</td>\n",
       "      <td>Sun</td>\n",
       "      <td>Dinner</td>\n",
       "      <td>2</td>\n",
       "      <td>18.00</td>\n",
       "      <td>9.000</td>\n",
       "    </tr>\n",
       "    <tr>\n",
       "      <th>1</th>\n",
       "      <td>10.34</td>\n",
       "      <td>1.66</td>\n",
       "      <td>Male</td>\n",
       "      <td>No</td>\n",
       "      <td>Sun</td>\n",
       "      <td>Dinner</td>\n",
       "      <td>3</td>\n",
       "      <td>12.00</td>\n",
       "      <td>4.000</td>\n",
       "    </tr>\n",
       "    <tr>\n",
       "      <th>2</th>\n",
       "      <td>21.01</td>\n",
       "      <td>3.50</td>\n",
       "      <td>Male</td>\n",
       "      <td>No</td>\n",
       "      <td>Sun</td>\n",
       "      <td>Dinner</td>\n",
       "      <td>3</td>\n",
       "      <td>24.51</td>\n",
       "      <td>8.170</td>\n",
       "    </tr>\n",
       "    <tr>\n",
       "      <th>3</th>\n",
       "      <td>23.68</td>\n",
       "      <td>3.31</td>\n",
       "      <td>Male</td>\n",
       "      <td>No</td>\n",
       "      <td>Sun</td>\n",
       "      <td>Dinner</td>\n",
       "      <td>2</td>\n",
       "      <td>26.99</td>\n",
       "      <td>13.495</td>\n",
       "    </tr>\n",
       "    <tr>\n",
       "      <th>4</th>\n",
       "      <td>24.59</td>\n",
       "      <td>3.61</td>\n",
       "      <td>Female</td>\n",
       "      <td>No</td>\n",
       "      <td>Sun</td>\n",
       "      <td>Dinner</td>\n",
       "      <td>4</td>\n",
       "      <td>28.20</td>\n",
       "      <td>7.050</td>\n",
       "    </tr>\n",
       "  </tbody>\n",
       "</table>\n",
       "</div>"
      ],
      "text/plain": [
       "   total_bill   tip     sex smoker  day    time  size  spent  spentpp\n",
       "0       16.99  1.01  Female     No  Sun  Dinner     2  18.00    9.000\n",
       "1       10.34  1.66    Male     No  Sun  Dinner     3  12.00    4.000\n",
       "2       21.01  3.50    Male     No  Sun  Dinner     3  24.51    8.170\n",
       "3       23.68  3.31    Male     No  Sun  Dinner     2  26.99   13.495\n",
       "4       24.59  3.61  Female     No  Sun  Dinner     4  28.20    7.050"
      ]
     },
     "execution_count": 68,
     "metadata": {},
     "output_type": "execute_result"
    }
   ],
   "source": [
    "df['spentpp']=df['spent'] / df['size']\n",
    "df.head()"
   ]
  },
  {
   "cell_type": "code",
   "execution_count": 69,
   "id": "fa591f3b",
   "metadata": {},
   "outputs": [
    {
     "data": {
      "text/html": [
       "<div>\n",
       "<style scoped>\n",
       "    .dataframe tbody tr th:only-of-type {\n",
       "        vertical-align: middle;\n",
       "    }\n",
       "\n",
       "    .dataframe tbody tr th {\n",
       "        vertical-align: top;\n",
       "    }\n",
       "\n",
       "    .dataframe thead th {\n",
       "        text-align: right;\n",
       "    }\n",
       "</style>\n",
       "<table border=\"1\" class=\"dataframe\">\n",
       "  <thead>\n",
       "    <tr style=\"text-align: right;\">\n",
       "      <th></th>\n",
       "      <th>total_bill</th>\n",
       "      <th>tip</th>\n",
       "      <th>sex</th>\n",
       "      <th>smoker</th>\n",
       "      <th>day</th>\n",
       "      <th>time</th>\n",
       "      <th>size</th>\n",
       "      <th>spent</th>\n",
       "      <th>spentpp</th>\n",
       "      <th>tip pp</th>\n",
       "    </tr>\n",
       "  </thead>\n",
       "  <tbody>\n",
       "    <tr>\n",
       "      <th>0</th>\n",
       "      <td>16.99</td>\n",
       "      <td>1.01</td>\n",
       "      <td>Female</td>\n",
       "      <td>No</td>\n",
       "      <td>Sun</td>\n",
       "      <td>Dinner</td>\n",
       "      <td>2</td>\n",
       "      <td>18.00</td>\n",
       "      <td>9.000</td>\n",
       "      <td>0.505000</td>\n",
       "    </tr>\n",
       "    <tr>\n",
       "      <th>1</th>\n",
       "      <td>10.34</td>\n",
       "      <td>1.66</td>\n",
       "      <td>Male</td>\n",
       "      <td>No</td>\n",
       "      <td>Sun</td>\n",
       "      <td>Dinner</td>\n",
       "      <td>3</td>\n",
       "      <td>12.00</td>\n",
       "      <td>4.000</td>\n",
       "      <td>0.553333</td>\n",
       "    </tr>\n",
       "    <tr>\n",
       "      <th>2</th>\n",
       "      <td>21.01</td>\n",
       "      <td>3.50</td>\n",
       "      <td>Male</td>\n",
       "      <td>No</td>\n",
       "      <td>Sun</td>\n",
       "      <td>Dinner</td>\n",
       "      <td>3</td>\n",
       "      <td>24.51</td>\n",
       "      <td>8.170</td>\n",
       "      <td>1.166667</td>\n",
       "    </tr>\n",
       "    <tr>\n",
       "      <th>3</th>\n",
       "      <td>23.68</td>\n",
       "      <td>3.31</td>\n",
       "      <td>Male</td>\n",
       "      <td>No</td>\n",
       "      <td>Sun</td>\n",
       "      <td>Dinner</td>\n",
       "      <td>2</td>\n",
       "      <td>26.99</td>\n",
       "      <td>13.495</td>\n",
       "      <td>1.655000</td>\n",
       "    </tr>\n",
       "    <tr>\n",
       "      <th>4</th>\n",
       "      <td>24.59</td>\n",
       "      <td>3.61</td>\n",
       "      <td>Female</td>\n",
       "      <td>No</td>\n",
       "      <td>Sun</td>\n",
       "      <td>Dinner</td>\n",
       "      <td>4</td>\n",
       "      <td>28.20</td>\n",
       "      <td>7.050</td>\n",
       "      <td>0.902500</td>\n",
       "    </tr>\n",
       "  </tbody>\n",
       "</table>\n",
       "</div>"
      ],
      "text/plain": [
       "   total_bill   tip     sex smoker  day    time  size  spent  spentpp  \\\n",
       "0       16.99  1.01  Female     No  Sun  Dinner     2  18.00    9.000   \n",
       "1       10.34  1.66    Male     No  Sun  Dinner     3  12.00    4.000   \n",
       "2       21.01  3.50    Male     No  Sun  Dinner     3  24.51    8.170   \n",
       "3       23.68  3.31    Male     No  Sun  Dinner     2  26.99   13.495   \n",
       "4       24.59  3.61  Female     No  Sun  Dinner     4  28.20    7.050   \n",
       "\n",
       "     tip pp  \n",
       "0  0.505000  \n",
       "1  0.553333  \n",
       "2  1.166667  \n",
       "3  1.655000  \n",
       "4  0.902500  "
      ]
     },
     "execution_count": 69,
     "metadata": {},
     "output_type": "execute_result"
    }
   ],
   "source": [
    "df['tip pp']=df['tip'] / df['size']\n",
    "df.head()"
   ]
  },
  {
   "cell_type": "code",
   "execution_count": 70,
   "id": "3dbb3cea",
   "metadata": {},
   "outputs": [
    {
     "data": {
      "text/plain": [
       "2220.641833333334"
      ]
     },
     "execution_count": 70,
     "metadata": {},
     "output_type": "execute_result"
    }
   ],
   "source": [
    "df['spentpp'].sum()"
   ]
  },
  {
   "cell_type": "code",
   "execution_count": 71,
   "id": "d7933eb3",
   "metadata": {},
   "outputs": [
    {
     "data": {
      "text/plain": [
       "933.5486666666668"
      ]
     },
     "execution_count": 71,
     "metadata": {},
     "output_type": "execute_result"
    }
   ],
   "source": [
    "df[df.smoker=='Yes']['spentpp'].sum()"
   ]
  },
  {
   "cell_type": "markdown",
   "id": "c1dad600",
   "metadata": {},
   "source": [
    "Total spent per person is 933.548666"
   ]
  },
  {
   "cell_type": "code",
   "execution_count": 72,
   "id": "35003f21",
   "metadata": {},
   "outputs": [
    {
     "data": {
      "text/plain": [
       "1287.0931666666665"
      ]
     },
     "execution_count": 72,
     "metadata": {},
     "output_type": "execute_result"
    }
   ],
   "source": [
    "df[df.smoker=='No']['spentpp'].sum()"
   ]
  },
  {
   "cell_type": "markdown",
   "id": "8c7ab710",
   "metadata": {},
   "source": [
    "Total spent per person by non smoker "
   ]
  },
  {
   "cell_type": "code",
   "execution_count": 73,
   "id": "bf2d0f0a",
   "metadata": {},
   "outputs": [
    {
     "data": {
      "text/plain": [
       "302.16833333333335"
      ]
     },
     "execution_count": 73,
     "metadata": {},
     "output_type": "execute_result"
    }
   ],
   "source": [
    "df[df.smoker=='Yes'][df.sex=='Female']['spentpp'].sum()"
   ]
  },
  {
   "cell_type": "markdown",
   "id": "4cab0f21",
   "metadata": {},
   "source": [
    "spent per person by female who smokes"
   ]
  },
  {
   "cell_type": "code",
   "execution_count": 74,
   "id": "65467174",
   "metadata": {},
   "outputs": [
    {
     "data": {
      "text/plain": [
       "631.3803333333334"
      ]
     },
     "execution_count": 74,
     "metadata": {},
     "output_type": "execute_result"
    }
   ],
   "source": [
    "df[df.smoker=='Yes'][df.sex=='Male']['spentpp'].sum()"
   ]
  },
  {
   "cell_type": "markdown",
   "id": "641cb9ea",
   "metadata": {},
   "source": [
    "spent per person by male who smokes"
   ]
  },
  {
   "cell_type": "code",
   "execution_count": 75,
   "id": "4dce69a8",
   "metadata": {},
   "outputs": [
    {
     "data": {
      "text/plain": [
       "835.9701666666666"
      ]
     },
     "execution_count": 75,
     "metadata": {},
     "output_type": "execute_result"
    }
   ],
   "source": [
    "df[df.smoker=='No'][df.sex=='Male']['spentpp'].sum()"
   ]
  },
  {
   "cell_type": "markdown",
   "id": "d0fc3f23",
   "metadata": {},
   "source": [
    "spent per person by male who does not smokes"
   ]
  },
  {
   "cell_type": "code",
   "execution_count": 76,
   "id": "7a7fe966",
   "metadata": {},
   "outputs": [
    {
     "data": {
      "text/plain": [
       "451.123"
      ]
     },
     "execution_count": 76,
     "metadata": {},
     "output_type": "execute_result"
    }
   ],
   "source": [
    "df[df.smoker=='No'][df.sex=='Female']['spentpp'].sum()"
   ]
  },
  {
   "cell_type": "markdown",
   "id": "c6e4087d",
   "metadata": {},
   "source": [
    "spent per person by Female who does not smokes"
   ]
  },
  {
   "cell_type": "code",
   "execution_count": 77,
   "id": "c4f874ba",
   "metadata": {},
   "outputs": [
    {
     "data": {
      "text/plain": [
       "295.9138333333333"
      ]
     },
     "execution_count": 77,
     "metadata": {},
     "output_type": "execute_result"
    }
   ],
   "source": [
    "df['tip pp'].sum()"
   ]
  },
  {
   "cell_type": "code",
   "execution_count": 78,
   "id": "a1744bd5",
   "metadata": {},
   "outputs": [
    {
     "data": {
      "text/plain": [
       "120.695"
      ]
     },
     "execution_count": 78,
     "metadata": {},
     "output_type": "execute_result"
    }
   ],
   "source": [
    "df[df.smoker=='Yes']['tip pp'].sum()"
   ]
  },
  {
   "cell_type": "markdown",
   "id": "ec2c19ec",
   "metadata": {},
   "source": [
    "tip per person who smokes"
   ]
  },
  {
   "cell_type": "code",
   "execution_count": 79,
   "id": "ba6f98af",
   "metadata": {},
   "outputs": [
    {
     "data": {
      "text/plain": [
       "175.2188333333333"
      ]
     },
     "execution_count": 79,
     "metadata": {},
     "output_type": "execute_result"
    }
   ],
   "source": [
    "df[df.smoker=='No']['tip pp'].sum()"
   ]
  },
  {
   "cell_type": "markdown",
   "id": "d09e8741",
   "metadata": {},
   "source": [
    "spent per person who does not smokes"
   ]
  },
  {
   "cell_type": "code",
   "execution_count": 80,
   "id": "e6e23c5e",
   "metadata": {},
   "outputs": [
    {
     "data": {
      "text/plain": [
       "43.6425"
      ]
     },
     "execution_count": 80,
     "metadata": {},
     "output_type": "execute_result"
    }
   ],
   "source": [
    "df[df.smoker=='Yes'][df.sex=='Female']['tip pp'].sum()"
   ]
  },
  {
   "cell_type": "markdown",
   "id": "3e478617",
   "metadata": {},
   "source": [
    "tip per person by female who smokes"
   ]
  },
  {
   "cell_type": "code",
   "execution_count": 81,
   "id": "31aad9dd",
   "metadata": {},
   "outputs": [
    {
     "data": {
      "text/plain": [
       "77.0525"
      ]
     },
     "execution_count": 81,
     "metadata": {},
     "output_type": "execute_result"
    }
   ],
   "source": [
    "df[df.smoker=='Yes'][df.sex=='Male']['tip pp'].sum()"
   ]
  },
  {
   "cell_type": "markdown",
   "id": "3a859eea",
   "metadata": {},
   "source": [
    "tip per person by male who smokes"
   ]
  },
  {
   "cell_type": "code",
   "execution_count": 82,
   "id": "950c6652",
   "metadata": {},
   "outputs": [
    {
     "data": {
      "text/plain": [
       "60.288"
      ]
     },
     "execution_count": 82,
     "metadata": {},
     "output_type": "execute_result"
    }
   ],
   "source": [
    "df[df.smoker=='No'][df.sex=='Female']['tip pp'].sum()"
   ]
  },
  {
   "cell_type": "markdown",
   "id": "fee34f5b",
   "metadata": {},
   "source": [
    "tip per person by female who  does not smokes"
   ]
  },
  {
   "cell_type": "code",
   "execution_count": 83,
   "id": "6dae75ab",
   "metadata": {},
   "outputs": [
    {
     "data": {
      "text/plain": [
       "114.93083333333334"
      ]
     },
     "execution_count": 83,
     "metadata": {},
     "output_type": "execute_result"
    }
   ],
   "source": [
    "df[df.smoker=='No'][df.sex=='Male']['tip pp'].sum()"
   ]
  },
  {
   "cell_type": "markdown",
   "id": "58ebced1",
   "metadata": {},
   "source": [
    "Tip per person by male who  does not smokes"
   ]
  },
  {
   "cell_type": "code",
   "execution_count": 84,
   "id": "652d0a6f",
   "metadata": {},
   "outputs": [
    {
     "data": {
      "text/plain": [
       "753.2913333333333"
      ]
     },
     "execution_count": 84,
     "metadata": {},
     "output_type": "execute_result"
    }
   ],
   "source": [
    "df[df.sex=='Female']['spentpp'].sum()"
   ]
  },
  {
   "cell_type": "markdown",
   "id": "cfbb5605",
   "metadata": {},
   "source": [
    "spent per person by female"
   ]
  },
  {
   "cell_type": "code",
   "execution_count": 85,
   "id": "f8480749",
   "metadata": {},
   "outputs": [
    {
     "data": {
      "text/plain": [
       "1467.3505"
      ]
     },
     "execution_count": 85,
     "metadata": {},
     "output_type": "execute_result"
    }
   ],
   "source": [
    "df[df.sex=='Male']['spentpp'].sum()"
   ]
  },
  {
   "cell_type": "markdown",
   "id": "fbdc7c67",
   "metadata": {},
   "source": [
    "spent per person by male"
   ]
  },
  {
   "cell_type": "code",
   "execution_count": 86,
   "id": "4bcf5c77",
   "metadata": {},
   "outputs": [
    {
     "data": {
      "text/plain": [
       "103.9305"
      ]
     },
     "execution_count": 86,
     "metadata": {},
     "output_type": "execute_result"
    }
   ],
   "source": [
    "df[df.sex=='Female']['tip pp'].sum()"
   ]
  },
  {
   "cell_type": "markdown",
   "id": "82dea3d1",
   "metadata": {},
   "source": [
    "tip per person by female"
   ]
  },
  {
   "cell_type": "code",
   "execution_count": 87,
   "id": "b0c1bb63",
   "metadata": {},
   "outputs": [
    {
     "data": {
      "text/plain": [
       "191.98333333333332"
      ]
     },
     "execution_count": 87,
     "metadata": {},
     "output_type": "execute_result"
    }
   ],
   "source": [
    "df[df.sex=='Male']['tip pp'].sum()"
   ]
  },
  {
   "cell_type": "markdown",
   "id": "4325585b",
   "metadata": {},
   "source": [
    "tip per person by male"
   ]
  },
  {
   "cell_type": "code",
   "execution_count": null,
   "id": "a17ebb8b",
   "metadata": {},
   "outputs": [],
   "source": []
  }
 ],
 "metadata": {
  "kernelspec": {
   "display_name": "Python 3 (ipykernel)",
   "language": "python",
   "name": "python3"
  },
  "language_info": {
   "codemirror_mode": {
    "name": "ipython",
    "version": 3
   },
   "file_extension": ".py",
   "mimetype": "text/x-python",
   "name": "python",
   "nbconvert_exporter": "python",
   "pygments_lexer": "ipython3",
   "version": "3.9.7"
  }
 },
 "nbformat": 4,
 "nbformat_minor": 5
}
